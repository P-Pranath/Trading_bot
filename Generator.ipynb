{
 "cells": [
  {
   "cell_type": "code",
   "execution_count": null,
   "id": "6fe4817c-e029-49c8-8703-2858c56160c5",
   "metadata": {},
   "outputs": [],
   "source": [
    "https://developers.kite.trade/apps"
   ]
  },
  {
   "cell_type": "code",
   "execution_count": null,
   "id": "2af72e23-6f5e-45e7-a43f-3d94f773e4c2",
   "metadata": {},
   "outputs": [],
   "source": [
    "from kiteconnect import KiteConnect\n",
    "\n",
    "api_key = \"Your api key\"\n",
    "kite = KiteConnect(api_key=api_key)\n",
    "\n",
    "print(kite.login_url())"
   ]
  },
  {
   "cell_type": "code",
   "execution_count": null,
   "id": "1901ba36-c1c5-4382-a0bd-49c2f7b6e2eb",
   "metadata": {},
   "outputs": [],
   "source": [
    "request_token = \"Your request token\"  # the value you copied from the redirect\n",
    "api_secret = \"Your secret key\"\n",
    "\n",
    "data = kite.generate_session(request_token, api_secret=api_secret)\n",
    "access_token = data[\"access_token\"]\n",
    "\n",
    "# Now you're logged in\n",
    "kite.set_access_token(access_token)\n",
    "print(\"Access Token:\", access_token)"
   ]
  },
  {
   "cell_type": "code",
   "execution_count": null,
   "id": "e2be9f0f-a354-4338-bd86-ab75457bcf0a",
   "metadata": {},
   "outputs": [],
   "source": []
  }
 ],
 "metadata": {
  "kernelspec": {
   "display_name": "Python 3 (ipykernel)",
   "language": "python",
   "name": "python3"
  },
  "language_info": {
   "codemirror_mode": {
    "name": "ipython",
    "version": 3
   },
   "file_extension": ".py",
   "mimetype": "text/x-python",
   "name": "python",
   "nbconvert_exporter": "python",
   "pygments_lexer": "ipython3",
   "version": "3.12.4"
  }
 },
 "nbformat": 4,
 "nbformat_minor": 5
}
